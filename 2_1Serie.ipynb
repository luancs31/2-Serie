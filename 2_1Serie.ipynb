{
  "nbformat": 4,
  "nbformat_minor": 0,
  "metadata": {
    "colab": {
      "provenance": [],
      "authorship_tag": "ABX9TyNd9CQ586E0QEL5yqE4zsdH",
      "include_colab_link": true
    },
    "kernelspec": {
      "name": "python3",
      "display_name": "Python 3"
    },
    "language_info": {
      "name": "python"
    }
  },
  "cells": [
    {
      "cell_type": "markdown",
      "metadata": {
        "id": "view-in-github",
        "colab_type": "text"
      },
      "source": [
        "<a href=\"https://colab.research.google.com/github/luancs31/2-Serie/blob/main/2_1Serie.ipynb\" target=\"_parent\"><img src=\"https://colab.research.google.com/assets/colab-badge.svg\" alt=\"Open In Colab\"/></a>"
      ]
    },
    {
      "cell_type": "markdown",
      "source": [
        "1"
      ],
      "metadata": {
        "id": "_F74s1eVdP2g"
      }
    },
    {
      "cell_type": "code",
      "execution_count": 1,
      "metadata": {
        "colab": {
          "base_uri": "https://localhost:8080/"
        },
        "id": "H1_5SrF8c-je",
        "outputId": "a75fb30e-086d-4de1-cd0f-9ca73625dd66"
      },
      "outputs": [
        {
          "output_type": "stream",
          "name": "stdout",
          "text": [
            "La subsecuencia con el producto máximo es: 48\n"
          ]
        }
      ],
      "source": [
        "def max_product_subarray(nums):\n",
        "    # Manejo del caso base: si la secuencia está vacía, retornar 0\n",
        "    if not nums:\n",
        "        return 0\n",
        "\n",
        "    # Inicializar variables para el producto máximo, producto mínimo y resultado\n",
        "    max_product = nums[0]\n",
        "    min_product = nums[0]\n",
        "    result = nums[0]\n",
        "\n",
        "    # Iterar sobre la secuencia desde el segundo elemento hasta el final\n",
        "    for i in range(1, len(nums)):\n",
        "        # Si el número actual es negativo, intercambiar los productos máximo y mínimo\n",
        "        if nums[i] < 0:\n",
        "            max_product, min_product = min_product, max_product\n",
        "\n",
        "        # Calcular el nuevo producto máximo y mínimo considerando el número actual\n",
        "        max_product = max(nums[i], max_product * nums[i])\n",
        "        min_product = min(nums[i], min_product * nums[i])\n",
        "\n",
        "        # Actualizar el resultado con el máximo encontrado hasta el momento\n",
        "        result = max(result, max_product)\n",
        "\n",
        "    # Retornar el resultado final, que es el producto máximo encontrado\n",
        "    return result\n",
        "\n",
        "# Ejemplo de uso:\n",
        "sequence = [2, 3, -2, 4, -1]\n",
        "result = max_product_subarray(sequence)\n",
        "print(\"La subsecuencia con el producto máximo es:\", result)\n"
      ]
    },
    {
      "cell_type": "markdown",
      "source": [
        "2"
      ],
      "metadata": {
        "id": "TEqzuv-hdUGu"
      }
    },
    {
      "cell_type": "code",
      "source": [
        "def contar_inversiones(arr):\n",
        "    n = len(arr)\n",
        "    inversiones = 0\n",
        "# Función auxiliar para fusionar dos subarreglos ordenados\n",
        "    def merge(arr, temp, left, mid, right):\n",
        "        i = left\n",
        "        j = mid + 1\n",
        "        k = left\n",
        "        inv_count = 0\n",
        "\n",
        "        while i <= mid and j <= right:\n",
        "            if arr[i] <= arr[j]:\n",
        "                temp[k] = arr[i]\n",
        "                k += 1\n",
        "                i += 1\n",
        "            else:\n",
        "                temp[k] = arr[j]\n",
        "                k += 1\n",
        "                j += 1\n",
        "                inv_count += (mid - i + 1)\n",
        "        while i <= mid:\n",
        "            temp[k] = arr[i]\n",
        "            k += 1\n",
        "            i += 1\n",
        "        while j <= right:\n",
        "            temp[k] = arr[j]\n",
        "            k += 1\n",
        "            j += 1\n",
        "        for i in range(left, right + 1):\n",
        "            arr[i] = temp[i]\n",
        "        return inv_count\n",
        "\n",
        "    # Función principal para contar inversiones usando el algoritmo de Merge Sort\n",
        "    def merge_sort(arr, temp, left, right):\n",
        "        inv_count = 0\n",
        "        if left < right:\n",
        "            mid = (left + right) // 2\n",
        "            inv_count += merge_sort(arr, temp, left, mid)\n",
        "            inv_count += merge_sort(arr, temp, mid + 1, right)\n",
        "            inv_count += merge(arr, temp, left, mid, right)\n",
        "\n",
        "        return inv_count\n",
        "    # Crear un arreglo temporal para almacenar la fusión\n",
        "    temp = [0] * n\n",
        "    # Llamar a la función de ordenamiento y contar inversiones\n",
        "    inversiones = merge_sort(arr, temp, 0, n - 1)\n",
        "\n",
        "    return inversiones\n",
        "\n",
        "# Ejemplo de uso:\n",
        "arreglo = [8, 4, 2, 1]\n",
        "resultado = contar_inversiones(arreglo)\n",
        "print(f'El número de inversiones en el arreglo es: {resultado}')"
      ],
      "metadata": {
        "colab": {
          "base_uri": "https://localhost:8080/"
        },
        "id": "lgN5PbfrdHfZ",
        "outputId": "352360ef-8108-415c-fa17-3baadd81ea29"
      },
      "execution_count": 2,
      "outputs": [
        {
          "output_type": "stream",
          "name": "stdout",
          "text": [
            "El número de inversiones en el arreglo es: 6\n"
          ]
        }
      ]
    },
    {
      "cell_type": "markdown",
      "source": [
        "3-1"
      ],
      "metadata": {
        "id": "N_ooOnOvdeVd"
      }
    },
    {
      "cell_type": "code",
      "source": [
        " class RMQ_Naive:\n",
        "    def __init__(self, array):\n",
        "        self.n = len(array)\n",
        "        self.matrix = [[float('inf')] * self.n for _ in range(self.n)]\n",
        "\n",
        "        for i in range(self.n):\n",
        "            self.matrix[i][i] = array[i]\n",
        "\n",
        "        for i in range(self.n):\n",
        "            for j in range(i + 1, self.n):\n",
        "                self.matrix[i][j] = min(self.matrix[i][j - 1], array[j])\n",
        "\n",
        "    def query(self, i, j):\n",
        "        return self.matrix[i][j]\n",
        "\n",
        "# Ejemplo de uso\n",
        "array = [4, 2, 7, 1, 5]\n",
        "rmq_naive = RMQ_Naive(array)\n",
        "print(rmq_naive.query(1, 3))  # Salida esperada: 1"
      ],
      "metadata": {
        "colab": {
          "base_uri": "https://localhost:8080/"
        },
        "id": "PRahOT9QdHai",
        "outputId": "38990947-b3bf-47e3-a66b-252821ee5996"
      },
      "execution_count": 3,
      "outputs": [
        {
          "output_type": "stream",
          "name": "stdout",
          "text": [
            "1\n"
          ]
        }
      ]
    },
    {
      "cell_type": "markdown",
      "source": [
        "3-2"
      ],
      "metadata": {
        "id": "QkUXdASidlw8"
      }
    },
    {
      "cell_type": "code",
      "source": [
        "import math\n",
        "\n",
        "class RMQ_SparseTable:\n",
        "    def __init__(self, array):\n",
        "        self.n = len(array)\n",
        "        self.log_n = int(math.ceil(math.log2(self.n)))\n",
        "        self.sparse_table = [[float('inf')] * self.n for _ in range(self.log_n + 1)]\n",
        "\n",
        "        for i in range(self.n):\n",
        "            self.sparse_table[0][i] = array[i]\n",
        "\n",
        "        for k in range(1, self.log_n + 1):\n",
        "            for i in range(self.n - 2 ** k + 1):\n",
        "                j = i + 2 ** (k - 1)\n",
        "                self.sparse_table[k][i] = min(self.sparse_table[k - 1][i], self.sparse_table[k - 1][j])\n",
        "\n",
        "    def query(self, i, j):\n",
        "        k = int(math.floor(math.log2(j - i + 1)))\n",
        "        return min(self.sparse_table[k][i], self.sparse_table[k][j - 2 ** k + 1])\n",
        "\n",
        "# Ejemplo de uso\n",
        "array = [4, 2, 7, 1, 5]\n",
        "rmq_sparse_table = RMQ_SparseTable(array)\n",
        "print(rmq_sparse_table.query(1, 3))  # Salida esperada: 1"
      ],
      "metadata": {
        "colab": {
          "base_uri": "https://localhost:8080/"
        },
        "id": "Ud7GetIxdGS9",
        "outputId": "35a0c8fb-6a31-40eb-ba2b-81964db61d07"
      },
      "execution_count": 4,
      "outputs": [
        {
          "output_type": "stream",
          "name": "stdout",
          "text": [
            "1\n"
          ]
        }
      ]
    },
    {
      "cell_type": "markdown",
      "source": [
        "4"
      ],
      "metadata": {
        "id": "w2Qz3gfVdvJa"
      }
    },
    {
      "cell_type": "code",
      "source": [
        "def counting_sort(arr, exp):\n",
        "    n = len(arr)\n",
        "    output = [0] * n\n",
        "    count = [0] * 10  # Dígito decimal, así que usamos base 10\n",
        "\n",
        "    for i in range(n):\n",
        "        index = arr[i] // exp\n",
        "        count[index % 10] += 1\n",
        "    for i in range(1, 10):\n",
        "        count[i] += count[i - 1]\n",
        "    i = n - 1\n",
        "    while i >= 0:\n",
        "        index = arr[i] // exp\n",
        "        output[count[index % 10] - 1] = arr[i]\n",
        "        count[index % 10] -= 1\n",
        "        i -= 1\n",
        "    for i in range(n):\n",
        "        arr[i] = output[i]\n",
        "def radix_sort(arr, d):\n",
        "    exp = 1\n",
        "    for i in range(d):\n",
        "        counting_sort(arr, exp)\n",
        "        exp *= 10\n",
        "# Ejemplo de uso\n",
        "arr = [170, 45, 75, 90, 802, 24, 2, 66]\n",
        "radix_sort(arr, 3)\n",
        "print(\"Arreglo ordenado:\", arr)"
      ],
      "metadata": {
        "colab": {
          "base_uri": "https://localhost:8080/"
        },
        "id": "lHdpRGVXdGKX",
        "outputId": "bbf39546-4d51-4a75-f21d-246593317206"
      },
      "execution_count": 5,
      "outputs": [
        {
          "output_type": "stream",
          "name": "stdout",
          "text": [
            "Arreglo ordenado: [2, 24, 45, 66, 75, 90, 170, 802]\n"
          ]
        }
      ]
    },
    {
      "cell_type": "markdown",
      "source": [
        "5-1"
      ],
      "metadata": {
        "id": "ZK1QBahOd0q0"
      }
    },
    {
      "cell_type": "code",
      "source": [
        "def find_median(S, T):\n",
        "    n = len(S)\n",
        "    if S[n-1] < T[0]:\n",
        "        return S[n-1]\n",
        "    elif S[0] > T[n-1]:\n",
        "        return T[n-1]\n",
        "    t = n // 2\n",
        "    s = n // 2\n",
        "    mins = 0\n",
        "    maxs = n\n",
        "\n",
        "    mint = 0\n",
        "    maxt = n\n",
        "    while S[s] < T[t] or S[s] > T[t+1]:\n",
        "        if S[s] >= T[t+1]:\n",
        "            mint = t + 1\n",
        "        if S[s] <= T[t]:\n",
        "            maxt = t\n",
        "        t = (mint + maxt) // 2\n",
        "    if t + s < n:\n",
        "        mins = s\n",
        "        t = n // 2\n",
        "        mint = 0\n",
        "        maxt = n\n",
        "    elif t + s > n - 1:\n",
        "        maxs = s\n",
        "        s = (mins + maxs) // 2\n",
        "        mint = 0\n",
        "        maxt = n\n",
        "    while s + t != n and s + t != n + 1:\n",
        "        if S[s] >= T[t+1]:\n",
        "            mint = t + 1\n",
        "        if S[s] <= T[t]:\n",
        "            maxt = t\n",
        "        t = (mint + maxt) // 2\n",
        "        if t + s < n:\n",
        "            mins = s\n",
        "            t = (mint + maxt) // 2\n",
        "            mint = 0\n",
        "            maxt = n\n",
        "        elif t + s > n - 1:\n",
        "            maxs = s\n",
        "            s = (mins + maxs) // 2\n",
        "            mint = 0\n",
        "            maxt = n\n",
        "    return max(S[s], T[t])\n",
        "# Ejemplo de uso\n",
        "S = [1, 3, 8, 9, 15]\n",
        "T = [7, 11, 18, 19, 21, 25]\n",
        "result = find_median(S, T)\n",
        "print(\"La mediana es:\", result)\n"
      ],
      "metadata": {
        "colab": {
          "base_uri": "https://localhost:8080/",
          "height": 349
        },
        "id": "5XFfnRqEdF6W",
        "outputId": "c715264e-a977-4a60-b549-39bb4c865d5b"
      },
      "execution_count": 8,
      "outputs": [
        {
          "output_type": "error",
          "ename": "KeyboardInterrupt",
          "evalue": "ignored",
          "traceback": [
            "\u001b[0;31m---------------------------------------------------------------------------\u001b[0m",
            "\u001b[0;31mKeyboardInterrupt\u001b[0m                         Traceback (most recent call last)",
            "\u001b[0;32m<ipython-input-8-cf4d65bbd692>\u001b[0m in \u001b[0;36m<cell line: 50>\u001b[0;34m()\u001b[0m\n\u001b[1;32m     48\u001b[0m \u001b[0mS\u001b[0m \u001b[0;34m=\u001b[0m \u001b[0;34m[\u001b[0m\u001b[0;36m1\u001b[0m\u001b[0;34m,\u001b[0m \u001b[0;36m3\u001b[0m\u001b[0;34m,\u001b[0m \u001b[0;36m8\u001b[0m\u001b[0;34m,\u001b[0m \u001b[0;36m9\u001b[0m\u001b[0;34m,\u001b[0m \u001b[0;36m15\u001b[0m\u001b[0;34m]\u001b[0m\u001b[0;34m\u001b[0m\u001b[0;34m\u001b[0m\u001b[0m\n\u001b[1;32m     49\u001b[0m \u001b[0mT\u001b[0m \u001b[0;34m=\u001b[0m \u001b[0;34m[\u001b[0m\u001b[0;36m7\u001b[0m\u001b[0;34m,\u001b[0m \u001b[0;36m11\u001b[0m\u001b[0;34m,\u001b[0m \u001b[0;36m18\u001b[0m\u001b[0;34m,\u001b[0m \u001b[0;36m19\u001b[0m\u001b[0;34m,\u001b[0m \u001b[0;36m21\u001b[0m\u001b[0;34m,\u001b[0m \u001b[0;36m25\u001b[0m\u001b[0;34m]\u001b[0m\u001b[0;34m\u001b[0m\u001b[0;34m\u001b[0m\u001b[0m\n\u001b[0;32m---> 50\u001b[0;31m \u001b[0mresult\u001b[0m \u001b[0;34m=\u001b[0m \u001b[0mfind_median\u001b[0m\u001b[0;34m(\u001b[0m\u001b[0mS\u001b[0m\u001b[0;34m,\u001b[0m \u001b[0mT\u001b[0m\u001b[0;34m)\u001b[0m\u001b[0;34m\u001b[0m\u001b[0;34m\u001b[0m\u001b[0m\n\u001b[0m\u001b[1;32m     51\u001b[0m \u001b[0mprint\u001b[0m\u001b[0;34m(\u001b[0m\u001b[0;34m\"La mediana es:\"\u001b[0m\u001b[0;34m,\u001b[0m \u001b[0mresult\u001b[0m\u001b[0;34m)\u001b[0m\u001b[0;34m\u001b[0m\u001b[0;34m\u001b[0m\u001b[0m\n",
            "\u001b[0;32m<ipython-input-8-cf4d65bbd692>\u001b[0m in \u001b[0;36mfind_median\u001b[0;34m(S, T)\u001b[0m\n\u001b[1;32m     28\u001b[0m         \u001b[0mmint\u001b[0m \u001b[0;34m=\u001b[0m \u001b[0;36m0\u001b[0m\u001b[0;34m\u001b[0m\u001b[0;34m\u001b[0m\u001b[0m\n\u001b[1;32m     29\u001b[0m         \u001b[0mmaxt\u001b[0m \u001b[0;34m=\u001b[0m \u001b[0mn\u001b[0m\u001b[0;34m\u001b[0m\u001b[0;34m\u001b[0m\u001b[0m\n\u001b[0;32m---> 30\u001b[0;31m     \u001b[0;32mwhile\u001b[0m \u001b[0ms\u001b[0m \u001b[0;34m+\u001b[0m \u001b[0mt\u001b[0m \u001b[0;34m!=\u001b[0m \u001b[0mn\u001b[0m \u001b[0;32mand\u001b[0m \u001b[0ms\u001b[0m \u001b[0;34m+\u001b[0m \u001b[0mt\u001b[0m \u001b[0;34m!=\u001b[0m \u001b[0mn\u001b[0m \u001b[0;34m+\u001b[0m \u001b[0;36m1\u001b[0m\u001b[0;34m:\u001b[0m\u001b[0;34m\u001b[0m\u001b[0;34m\u001b[0m\u001b[0m\n\u001b[0m\u001b[1;32m     31\u001b[0m         \u001b[0;32mif\u001b[0m \u001b[0mS\u001b[0m\u001b[0;34m[\u001b[0m\u001b[0ms\u001b[0m\u001b[0;34m]\u001b[0m \u001b[0;34m>=\u001b[0m \u001b[0mT\u001b[0m\u001b[0;34m[\u001b[0m\u001b[0mt\u001b[0m\u001b[0;34m+\u001b[0m\u001b[0;36m1\u001b[0m\u001b[0;34m]\u001b[0m\u001b[0;34m:\u001b[0m\u001b[0;34m\u001b[0m\u001b[0;34m\u001b[0m\u001b[0m\n\u001b[1;32m     32\u001b[0m             \u001b[0mmint\u001b[0m \u001b[0;34m=\u001b[0m \u001b[0mt\u001b[0m \u001b[0;34m+\u001b[0m \u001b[0;36m1\u001b[0m\u001b[0;34m\u001b[0m\u001b[0;34m\u001b[0m\u001b[0m\n",
            "\u001b[0;31mKeyboardInterrupt\u001b[0m: "
          ]
        }
      ]
    },
    {
      "cell_type": "markdown",
      "source": [
        "6-1"
      ],
      "metadata": {
        "id": "tivxNqXyethG"
      }
    },
    {
      "cell_type": "code",
      "source": [
        "def encontrar_k(arr):\n",
        "    inicio, fin = 0, len(arr) - 1\n",
        "\n",
        "    while inicio <= fin:\n",
        "        medio = (inicio + fin) // 2\n",
        "\n",
        "        if medio > 0 and arr[medio] < arr[medio - 1]:\n",
        "            return medio - 1  # Se encontró el punto de cambio\n",
        "        elif arr[medio] < arr[medio + 1]:\n",
        "            inicio = medio + 1  # La secuencia crece, buscar en la mitad derecha\n",
        "        else:\n",
        "            fin = medio - 1  # La secuencia decrece, buscar en la mitad izquierda\n",
        "\n",
        "    return -1  # No se encontró ningún punto de cambio\n",
        "\n",
        "# Ejemplo de uso:\n",
        "arreglo = [1, 2, 3, 7, 6, 5, 4]\n",
        "indice_k = encontrar_k(arreglo)\n",
        "print(\"El valor de k es:\", indice_k)\n",
        "\n"
      ],
      "metadata": {
        "colab": {
          "base_uri": "https://localhost:8080/"
        },
        "id": "STeRbR1OdFwF",
        "outputId": "bcd3e897-ade8-4184-c982-c9fc1a57d40d"
      },
      "execution_count": 9,
      "outputs": [
        {
          "output_type": "stream",
          "name": "stdout",
          "text": [
            "El valor de k es: -1\n"
          ]
        }
      ]
    },
    {
      "cell_type": "markdown",
      "source": [
        "6-2"
      ],
      "metadata": {
        "id": "A0Xmn5p1gavp"
      }
    },
    {
      "cell_type": "code",
      "source": [
        "def encontrar_k_desconocido(arr):\n",
        "    inicio, fin = 0, 1\n",
        "\n",
        "    # Ajustar dinámicamente el rango de búsqueda\n",
        "    while fin < len(arr) and arr[fin] > arr[fin - 1]:\n",
        "        inicio = fin\n",
        "        fin *= 2\n",
        "\n",
        "    # Aplicar búsqueda binaria en el rango encontrado\n",
        "    while inicio <= fin:\n",
        "        medio = (inicio + fin) // 2\n",
        "\n",
        "        if medio > 0 and arr[medio] < arr[medio - 1]:\n",
        "            return medio - 1  # Se encontró el punto de cambio\n",
        "        elif arr[medio] < arr[medio + 1]:\n",
        "            inicio = medio + 1  # La secuencia crece, buscar en la mitad derecha\n",
        "        else:\n",
        "            fin = medio - 1  # La secuencia decrece, buscar en la mitad izquierda\n",
        "\n",
        "    return -1  # No se encontró ningún punto de cambio\n",
        "\n",
        "# Ejemplo de uso:\n",
        "arreglo_desconocido = [1, 2, 3, 7, 6, 5, 4, 8, 9, 10, 11, 12]\n",
        "indice_k_desconocido = encontrar_k_desconocido(arreglo_desconocido)\n",
        "print(\"El valor de k es:\", indice_k_desconocido)\n"
      ],
      "metadata": {
        "colab": {
          "base_uri": "https://localhost:8080/"
        },
        "id": "d1zbcnw7dErZ",
        "outputId": "d14c22c3-bef2-4f2f-de55-dfbaec57bacf"
      },
      "execution_count": 10,
      "outputs": [
        {
          "output_type": "stream",
          "name": "stdout",
          "text": [
            "El valor de k es: -1\n"
          ]
        }
      ]
    },
    {
      "cell_type": "markdown",
      "source": [
        "7"
      ],
      "metadata": {
        "id": "P0LY1R0cget3"
      }
    },
    {
      "cell_type": "code",
      "source": [
        "def encontrar_maximo(A):\n",
        "    n = len(A)\n",
        "\n",
        "    if A[n - 1] > A[0]:\n",
        "        return A[n - 1]\n",
        "\n",
        "    min_val = 0\n",
        "    max_val = n - 1\n",
        "    r = 0\n",
        "\n",
        "    while min_val < max_val:\n",
        "        rp = (max_val + min_val) // 2\n",
        "\n",
        "        if A[rp] > A[min_val] and A[rp] > A[max_val]:\n",
        "            if A[rp] > A[rp + 1]:\n",
        "                r = rp + 1\n",
        "            else:\n",
        "                min_val = rp\n",
        "        elif A[rp] < A[min_val] and A[rp] < A[max_val]:\n",
        "            max_val = rp\n",
        "        else:\n",
        "            min_val = rp\n",
        "\n",
        "    return A[(r + 1) % n]\n",
        "\n",
        "# Ejemplo de uso\n",
        "arreglo = [3, 4, 5, 6, 7, 8, 9, 10, 1, 2]\n",
        "resultado = encontrar_maximo(arreglo)\n",
        "print(\"El máximo valor en el arreglo es:\", resultado)\n"
      ],
      "metadata": {
        "colab": {
          "base_uri": "https://localhost:8080/",
          "height": 349
        },
        "id": "pLkdJHFWdEjr",
        "outputId": "92c0b95a-50ed-42c0-fede-61585749e4db"
      },
      "execution_count": 11,
      "outputs": [
        {
          "output_type": "error",
          "ename": "KeyboardInterrupt",
          "evalue": "ignored",
          "traceback": [
            "\u001b[0;31m---------------------------------------------------------------------------\u001b[0m",
            "\u001b[0;31mKeyboardInterrupt\u001b[0m                         Traceback (most recent call last)",
            "\u001b[0;32m<ipython-input-11-9ad72bce9e9e>\u001b[0m in \u001b[0;36m<cell line: 28>\u001b[0;34m()\u001b[0m\n\u001b[1;32m     26\u001b[0m \u001b[0;31m# Ejemplo de uso\u001b[0m\u001b[0;34m\u001b[0m\u001b[0;34m\u001b[0m\u001b[0m\n\u001b[1;32m     27\u001b[0m \u001b[0marreglo\u001b[0m \u001b[0;34m=\u001b[0m \u001b[0;34m[\u001b[0m\u001b[0;36m3\u001b[0m\u001b[0;34m,\u001b[0m \u001b[0;36m4\u001b[0m\u001b[0;34m,\u001b[0m \u001b[0;36m5\u001b[0m\u001b[0;34m,\u001b[0m \u001b[0;36m6\u001b[0m\u001b[0;34m,\u001b[0m \u001b[0;36m7\u001b[0m\u001b[0;34m,\u001b[0m \u001b[0;36m8\u001b[0m\u001b[0;34m,\u001b[0m \u001b[0;36m9\u001b[0m\u001b[0;34m,\u001b[0m \u001b[0;36m10\u001b[0m\u001b[0;34m,\u001b[0m \u001b[0;36m1\u001b[0m\u001b[0;34m,\u001b[0m \u001b[0;36m2\u001b[0m\u001b[0;34m]\u001b[0m\u001b[0;34m\u001b[0m\u001b[0;34m\u001b[0m\u001b[0m\n\u001b[0;32m---> 28\u001b[0;31m \u001b[0mresultado\u001b[0m \u001b[0;34m=\u001b[0m \u001b[0mencontrar_maximo\u001b[0m\u001b[0;34m(\u001b[0m\u001b[0marreglo\u001b[0m\u001b[0;34m)\u001b[0m\u001b[0;34m\u001b[0m\u001b[0;34m\u001b[0m\u001b[0m\n\u001b[0m\u001b[1;32m     29\u001b[0m \u001b[0mprint\u001b[0m\u001b[0;34m(\u001b[0m\u001b[0;34m\"El máximo valor en el arreglo es:\"\u001b[0m\u001b[0;34m,\u001b[0m \u001b[0mresultado\u001b[0m\u001b[0;34m)\u001b[0m\u001b[0;34m\u001b[0m\u001b[0;34m\u001b[0m\u001b[0m\n",
            "\u001b[0;32m<ipython-input-11-9ad72bce9e9e>\u001b[0m in \u001b[0;36mencontrar_maximo\u001b[0;34m(A)\u001b[0m\n\u001b[1;32m      9\u001b[0m     \u001b[0mr\u001b[0m \u001b[0;34m=\u001b[0m \u001b[0;36m0\u001b[0m\u001b[0;34m\u001b[0m\u001b[0;34m\u001b[0m\u001b[0m\n\u001b[1;32m     10\u001b[0m \u001b[0;34m\u001b[0m\u001b[0m\n\u001b[0;32m---> 11\u001b[0;31m     \u001b[0;32mwhile\u001b[0m \u001b[0mmin_val\u001b[0m \u001b[0;34m<\u001b[0m \u001b[0mmax_val\u001b[0m\u001b[0;34m:\u001b[0m\u001b[0;34m\u001b[0m\u001b[0;34m\u001b[0m\u001b[0m\n\u001b[0m\u001b[1;32m     12\u001b[0m         \u001b[0mrp\u001b[0m \u001b[0;34m=\u001b[0m \u001b[0;34m(\u001b[0m\u001b[0mmax_val\u001b[0m \u001b[0;34m+\u001b[0m \u001b[0mmin_val\u001b[0m\u001b[0;34m)\u001b[0m \u001b[0;34m//\u001b[0m \u001b[0;36m2\u001b[0m\u001b[0;34m\u001b[0m\u001b[0;34m\u001b[0m\u001b[0m\n\u001b[1;32m     13\u001b[0m \u001b[0;34m\u001b[0m\u001b[0m\n",
            "\u001b[0;31mKeyboardInterrupt\u001b[0m: "
          ]
        }
      ]
    },
    {
      "cell_type": "markdown",
      "source": [
        "8"
      ],
      "metadata": {
        "id": "-m-AmkzKgojY"
      }
    },
    {
      "cell_type": "code",
      "source": [
        "def encontrar_repetido_faltante(arreglo):\n",
        "    n = len(arreglo)\n",
        "    i, f, r = 0, 0, 0\n",
        "\n",
        "    # Paso 2: Corregir inversiones en el arreglo\n",
        "    while i < n:\n",
        "        while arreglo[i] != arreglo[arreglo[i]]:\n",
        "            # Intercambiar elementos para corregir inversiones\n",
        "            arreglo[arreglo[i]], arreglo[i] = arreglo[i], arreglo[arreglo[i]]\n",
        "\n",
        "        i += 1\n",
        "\n",
        "    # Paso 4: Encontrar el elemento repetido y faltante\n",
        "    for k in range(n):\n",
        "        if arreglo[k] != k:\n",
        "            f = arreglo[k]\n",
        "            r = k\n",
        "            break\n",
        "\n",
        "    return f, r\n",
        "\n",
        "# Ejemplo de uso\n",
        "arreglo_ejemplo = [4, 2, 1, 3, 2]\n",
        "repetido, faltante = encontrar_repetido_faltante(arreglo_ejemplo)\n",
        "\n",
        "print(f\"Elemento repetido: {repetido}\")\n",
        "print(f\"Elemento faltante: {faltante}\")"
      ],
      "metadata": {
        "colab": {
          "base_uri": "https://localhost:8080/"
        },
        "id": "kzxPsSXKdEbe",
        "outputId": "c99ab6f5-e102-490e-da6c-93eba93b969d"
      },
      "execution_count": 12,
      "outputs": [
        {
          "output_type": "stream",
          "name": "stdout",
          "text": [
            "Elemento repetido: 2\n",
            "Elemento faltante: 0\n"
          ]
        }
      ]
    },
    {
      "cell_type": "markdown",
      "source": [
        "9"
      ],
      "metadata": {
        "id": "hbbHDBbrgtvt"
      }
    },
    {
      "cell_type": "code",
      "source": [
        "class Node:\n",
        "    def __init__(self, value):\n",
        "        self.value = value\n",
        "        self.next = None\n",
        "\n",
        "def create_linked_list(n):\n",
        "    # Paso 1\n",
        "    nodes = [Node(i) for i in range(1, n)]\n",
        "    nodes.append(Node(n))\n",
        "    for i in range(n - 1):\n",
        "        nodes[i].next = nodes[i + 1]\n",
        "    nodes[n - 1].next = nodes[0]\n",
        "    return nodes\n",
        "def josephus_permutation(n, m):\n",
        "    # Paso 2\n",
        "    L = []\n",
        "    # Paso 3\n",
        "    current = create_linked_list(n)[0]\n",
        "    for k in range(1, m):\n",
        "        current = current.next\n",
        "    while current.next != current:\n",
        "        # Paso 4\n",
        "        L.append(current.next.value)\n",
        "        # Paso 5\n",
        "        current.next = current.next.next\n",
        "        # Paso 6\n",
        "        for _ in range(m - 1):\n",
        "            current = current.next\n",
        "    # Paso 7\n",
        "    L.append(current.value)\n",
        "    # Paso 8\n",
        "    return L\n",
        "\n",
        "# Ejemplo de uso\n",
        "n = 7\n",
        "m = 3\n",
        "result = josephus_permutation(n, m)\n",
        "print(\"Lista resultante:\", result)\n"
      ],
      "metadata": {
        "colab": {
          "base_uri": "https://localhost:8080/"
        },
        "id": "Hk1ggueSdESp",
        "outputId": "ec521014-8d4a-4a6f-a476-d5427fc56c08"
      },
      "execution_count": 13,
      "outputs": [
        {
          "output_type": "stream",
          "name": "stdout",
          "text": [
            "Lista resultante: [4, 7, 3, 1, 6, 2, 5]\n"
          ]
        }
      ]
    },
    {
      "cell_type": "markdown",
      "source": [
        "10"
      ],
      "metadata": {
        "id": "UKRv5vi4g5Vy"
      }
    },
    {
      "cell_type": "code",
      "source": [
        "class BinaryIndexedTree:\n",
        "    def __init__(self, n):\n",
        "        self.n = n\n",
        "        self.bit = [0] * (n + 1)\n",
        "\n",
        "    def add(self, i, y):\n",
        "        i += 1  # Ajuste de índice 0-based a 1-based\n",
        "        while i <= self.n:\n",
        "            self.bit[i] += y\n",
        "            i += i & -i\n",
        "\n",
        "    def partial_sum(self, i):\n",
        "        i += 1  # Ajuste de índice 0-based a 1-based\n",
        "        result = 0\n",
        "        while i > 0:\n",
        "            result += self.bit[i]\n",
        "            i -= i & -i\n",
        "        return result\n",
        "# Ejemplo de uso:\n",
        "n = 10\n",
        "A = [0] * n  # Inicializar el arreglo con ceros\n",
        "bit_tree = BinaryIndexedTree(n)\n",
        "\n",
        "# Realizar operaciones\n",
        "bit_tree.add(2, 5)\n",
        "bit_tree.add(5, 3)\n",
        "bit_tree.add(7, 8)\n",
        "print(\"Partial Sum(3):\", bit_tree.partial_sum(3))\n",
        "print(\"Partial Sum(6):\", bit_tree.partial_sum(6))\n"
      ],
      "metadata": {
        "colab": {
          "base_uri": "https://localhost:8080/"
        },
        "id": "yyeRuZ5Og55J",
        "outputId": "1fc498bc-5d23-40e4-9efe-7c4d84e943e7"
      },
      "execution_count": 14,
      "outputs": [
        {
          "output_type": "stream",
          "name": "stdout",
          "text": [
            "Partial Sum(3): 5\n",
            "Partial Sum(6): 8\n"
          ]
        }
      ]
    }
  ]
}