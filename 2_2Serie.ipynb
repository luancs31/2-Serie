{
  "nbformat": 4,
  "nbformat_minor": 0,
  "metadata": {
    "colab": {
      "provenance": [],
      "authorship_tag": "ABX9TyPNpdyYqGJIPniqliR/OsBd",
      "include_colab_link": true
    },
    "kernelspec": {
      "name": "python3",
      "display_name": "Python 3"
    },
    "language_info": {
      "name": "python"
    }
  },
  "cells": [
    {
      "cell_type": "markdown",
      "metadata": {
        "id": "view-in-github",
        "colab_type": "text"
      },
      "source": [
        "<a href=\"https://colab.research.google.com/github/luancs31/2-Serie/blob/main/2_2Serie.ipynb\" target=\"_parent\"><img src=\"https://colab.research.google.com/assets/colab-badge.svg\" alt=\"Open In Colab\"/></a>"
      ]
    },
    {
      "cell_type": "markdown",
      "source": [
        "1"
      ],
      "metadata": {
        "id": "7GsRT4ZSkJW1"
      }
    },
    {
      "cell_type": "code",
      "execution_count": 1,
      "metadata": {
        "colab": {
          "base_uri": "https://localhost:8080/"
        },
        "id": "vrYyMT2TkERD",
        "outputId": "dbc6def7-92ff-4777-c17b-5644d8d08c32"
      },
      "outputs": [
        {
          "output_type": "stream",
          "name": "stdout",
          "text": [
            "El máximo valor de pescado que el pescador puede atrapar es: 25\n"
          ]
        }
      ],
      "source": [
        "def max_valor_pescado(A):\n",
        "    n = len(A) // 2\n",
        "    m = len(A[0])\n",
        "\n",
        "    # Creamos una matriz para almacenar los resultados intermedios\n",
        "    dp = [[0] * (m + 1) for _ in range(n + 1)]\n",
        "\n",
        "    # Llenamos la matriz dp utilizando programación dinámica\n",
        "    for i in range(1, n + 1):\n",
        "        for j in range(1, m + 1):\n",
        "            dp[i][j] = A[i - 1][j - 1] + max(dp[i - 1][j], dp[i][j - 1])\n",
        "\n",
        "    # El resultado final estará en la esquina inferior derecha de la matriz dp\n",
        "    return dp[n][m]\n",
        "\n",
        "# Ejemplo de uso\n",
        "A = [\n",
        "    [1, 2, 5, 9],\n",
        "    [3, 4, 6, 8],\n",
        "    [7, 1, 2, 3],\n",
        "    [2, 3, 4, 5]\n",
        "]\n",
        "\n",
        "resultado = max_valor_pescado(A)\n",
        "print(\"El máximo valor de pescado que el pescador puede atrapar es:\", resultado)\n",
        ""
      ]
    },
    {
      "cell_type": "markdown",
      "source": [
        "2"
      ],
      "metadata": {
        "id": "Pm5mkQsQkQol"
      }
    },
    {
      "cell_type": "code",
      "source": [
        "class Employee:\n",
        "    def __init__(self, fun_rating):\n",
        "        self.fun_rating = fun_rating\n",
        "        self.subordinates = []\n",
        "\n",
        "def max_fun_party(root):\n",
        "    include_root = root.fun_rating\n",
        "    exclude_root = 0\n",
        "    for subordinate in root.subordinates:\n",
        "        include_root += sum(max_fun_party(sub) for sub in subordinate.subordinates)\n",
        "        exclude_root += max_fun_party(subordinate)\n",
        "\n",
        "    return max(include_root, exclude_root)\n",
        "\n",
        "# Ejemplo de uso\n",
        "if __name__ == \"__main__\":\n",
        "    # Crear la jerarquía de empleados\n",
        "    president = Employee(10)\n",
        "    vice_president = Employee(5)\n",
        "    manager1 = Employee(8)\n",
        "    manager2 = Employee(7)\n",
        "    employee1 = Employee(3)\n",
        "    employee2 = Employee(4)\n",
        "    employee3 = Employee(6)\n",
        "\n",
        "    president.subordinates.extend([vice_president, manager1, manager2])\n",
        "    vice_president.subordinates.extend([employee1, employee2])\n",
        "    manager1.subordinates.append(employee3)\n",
        "\n",
        "    # Llamar al algoritmo\n",
        "    result = max_fun_party(president)\n",
        "    print(\"La máxima calificación de diversión para la fiesta es:\", result)\n",
        "\n"
      ],
      "metadata": {
        "colab": {
          "base_uri": "https://localhost:8080/"
        },
        "id": "uhNCrT9CkIy2",
        "outputId": "178b1d67-00d8-4bfc-d4f4-3143210d8b6c"
      },
      "execution_count": 3,
      "outputs": [
        {
          "output_type": "stream",
          "name": "stdout",
          "text": [
            "La máxima calificación de diversión para la fiesta es: 23\n"
          ]
        }
      ]
    },
    {
      "cell_type": "markdown",
      "source": [
        "3"
      ],
      "metadata": {
        "id": "ctHEx3y5kpgh"
      }
    },
    {
      "cell_type": "code",
      "source": [
        "class Nodo:\n",
        "    def __init__(self, valor):\n",
        "        self.valor = valor\n",
        "        self.vecinos = {}\n",
        "\n",
        "\n",
        "def encontrar_peor_ruta(raiz):\n",
        "    # Diccionario para almacenar la distancia máxima y los nodos correspondientes\n",
        "    peor_ruta = {'distancia': -1, 'nodo1': None, 'nodo2': None}\n",
        "\n",
        "    def dfs(nodo, distancia, visitados):\n",
        "        nonlocal peor_ruta\n",
        "\n",
        "        visitados.add(nodo)\n",
        "\n",
        "        for vecino, peso in nodo.vecinos.items():\n",
        "            if vecino not in visitados:\n",
        "                nueva_distancia = distancia + peso\n",
        "                dfs(vecino, nueva_distancia, visitados)\n",
        "\n",
        "        if distancia > peor_ruta['distancia']:\n",
        "            peor_ruta = {'distancia': distancia, 'nodo1': raiz, 'nodo2': nodo}\n",
        "\n",
        "    # Inicia la búsqueda en profundidad desde cada nodo\n",
        "    for nodo in raiz.vecinos:\n",
        "        visitados = set()\n",
        "        dfs(nodo, 0, visitados)\n",
        "\n",
        "    return peor_ruta\n",
        "\n",
        "\n",
        "# Ejemplo de uso:\n",
        "\n",
        "# Creamos nodos y establecemos las conexiones entre ellos\n",
        "nodo1 = Nodo(\"A\")\n",
        "nodo2 = Nodo(\"B\")\n",
        "nodo3 = Nodo(\"C\")\n",
        "nodo4 = Nodo(\"D\")\n",
        "\n",
        "nodo1.vecinos = {nodo2: 2, nodo3: 3}\n",
        "nodo2.vecinos = {nodo1: 2, nodo4: 4}\n",
        "nodo3.vecinos = {nodo1: 3}\n",
        "nodo4.vecinos = {nodo2: 4}\n",
        "\n",
        "# Encuentra la peor ruta\n",
        "resultado = encontrar_peor_ruta(nodo1)\n",
        "\n",
        "print(f\"La peor ruta es entre los nodos {resultado['nodo1'].valor} y {resultado['nodo2'].valor}, con una distancia de {resultado['distancia']}\")\n"
      ],
      "metadata": {
        "colab": {
          "base_uri": "https://localhost:8080/"
        },
        "id": "oqTImAF-kIfn",
        "outputId": "5a555669-400a-4f1c-93bd-2df1ec993586"
      },
      "execution_count": 12,
      "outputs": [
        {
          "output_type": "stream",
          "name": "stdout",
          "text": [
            "La peor ruta es entre los nodos A y D, con una distancia de 9\n"
          ]
        }
      ]
    },
    {
      "cell_type": "markdown",
      "source": [
        "4"
      ],
      "metadata": {
        "id": "5alnT8GjmZUC"
      }
    },
    {
      "cell_type": "code",
      "source": [
        "def counting_sort(arr, exp):\n",
        "    n = len(arr)\n",
        "    output = [0] * n\n",
        "    count = [0] * 10\n",
        "\n",
        "    for i in range(n):\n",
        "        index = arr[i] // exp\n",
        "        count[index % 10] += 1\n",
        "\n",
        "    for i in range(1, 10):\n",
        "        count[i] += count[i - 1]\n",
        "\n",
        "    i = n - 1\n",
        "    while i >= 0:\n",
        "        index = arr[i] // exp\n",
        "        output[count[index % 10] - 1] = arr[i]\n",
        "        count[index % 10] -= 1\n",
        "        i -= 1\n",
        "\n",
        "    for i in range(n):\n",
        "        arr[i] = output[i]\n",
        "\n",
        "def radix_sort(arr):\n",
        "    max_element = max(arr)\n",
        "    exp = 1\n",
        "\n",
        "    while max_element // exp > 0:\n",
        "        counting_sort(arr, exp)\n",
        "        exp *= 10\n",
        "\n",
        "# Ejemplo de uso:\n",
        "arr = [170, 45, 75, 90, 802, 24, 2, 66]\n",
        "radix_sort(arr)\n",
        "\n",
        "print(\"Arreglo ordenado:\", arr)\n"
      ],
      "metadata": {
        "colab": {
          "base_uri": "https://localhost:8080/"
        },
        "id": "s8TnD96BkIcn",
        "outputId": "ceed1888-7607-4580-fb1e-2df9d21dcba0"
      },
      "execution_count": 13,
      "outputs": [
        {
          "output_type": "stream",
          "name": "stdout",
          "text": [
            "Arreglo ordenado: [2, 24, 45, 66, 75, 90, 170, 802]\n"
          ]
        }
      ]
    },
    {
      "cell_type": "markdown",
      "source": [
        "5(a)"
      ],
      "metadata": {
        "id": "M_85Om2DmsMD"
      }
    },
    {
      "cell_type": "code",
      "source": [
        "def knapsack_fractional_value(weights, values, capacity):\n",
        "    n = len(weights)\n",
        "    ratios = [(values[i] / weights[i], weights[i], values[i], i) for i in range(n)]\n",
        "    ratios.sort(reverse=True)\n",
        "    total_value = 0\n",
        "    fractions = [0] * n\n",
        "    for _, weight, value, index in ratios:\n",
        "        if weight <= capacity:\n",
        "            fractions[index] = 1\n",
        "            total_value += value\n",
        "            capacity -= weight\n",
        "        else:\n",
        "            fractions[index] = capacity / weight\n",
        "            total_value += fractions[index] * value\n",
        "            break\n",
        "    return total_value, fractions\n",
        "# Ejemplo de uso\n",
        "weights = [5, 3, 2, 8, 4]\n",
        "values = [10, 8, 5, 20, 15]\n",
        "capacity = 10\n",
        "result, fractions = knapsack_fractional_value(weights, values, capacity)\n",
        "print(\"El valor máximo de la mochila es:\", result)\n",
        "print(\"Fracciones de cada tesoro en la mochila:\", fractions)\n"
      ],
      "metadata": {
        "colab": {
          "base_uri": "https://localhost:8080/"
        },
        "id": "lLCe7h-fkIYE",
        "outputId": "0a82dbfd-daab-478e-e9f0-3059cefb18d5"
      },
      "execution_count": 14,
      "outputs": [
        {
          "output_type": "stream",
          "name": "stdout",
          "text": [
            "El valor máximo de la mochila es: 30.5\n",
            "Fracciones de cada tesoro en la mochila: [0, 1, 0, 0.375, 1]\n"
          ]
        }
      ]
    },
    {
      "cell_type": "markdown",
      "source": [
        "5(c)"
      ],
      "metadata": {
        "id": "8ESvubyYm50X"
      }
    },
    {
      "cell_type": "code",
      "source": [
        "def knapsack_fractional_value_linear(weights, values, capacity):\n",
        "    n = len(weights)\n",
        "    total_value = 0\n",
        "    fractions = [0] * n\n",
        "\n",
        "    for _ in range(n):\n",
        "        max_ratio = 0\n",
        "        selected_treasure = -1\n",
        "\n",
        "        for i in range(n):\n",
        "            if fractions[i] == 0:\n",
        "                current_ratio = values[i] / weights[i]\n",
        "\n",
        "                if current_ratio > max_ratio:\n",
        "                    max_ratio = current_ratio\n",
        "                    selected_treasure = i\n",
        "\n",
        "        if selected_treasure != -1:\n",
        "            fractions[selected_treasure] = min(1, capacity / weights[selected_treasure])\n",
        "            total_value += fractions[selected_treasure] * values[selected_treasure]\n",
        "            capacity -= fractions[selected_treasure] * weights[selected_treasure]\n",
        "\n",
        "    return total_value, fractions\n",
        "\n",
        "# Ejemplo de uso\n",
        "weights = [5, 3, 2, 8, 4]\n",
        "values = [10, 8, 5, 20, 15]\n",
        "capacity = 10\n",
        "\n",
        "result, fractions = knapsack_fractional_value_linear(weights, values, capacity)\n",
        "print(\"El valor máximo de la mochila es:\", result)\n",
        "print(\"Fracciones de cada tesoro en la mochila:\", fractions)\n"
      ],
      "metadata": {
        "colab": {
          "base_uri": "https://localhost:8080/"
        },
        "id": "kxQVCj6dkIVf",
        "outputId": "f3e892cd-643b-4a62-8b17-22f737dfbfa7"
      },
      "execution_count": 15,
      "outputs": [
        {
          "output_type": "stream",
          "name": "stdout",
          "text": [
            "El valor máximo de la mochila es: 30.5\n",
            "Fracciones de cada tesoro en la mochila: [0.0, 1, 1, 0.125, 1]\n"
          ]
        }
      ]
    },
    {
      "cell_type": "markdown",
      "source": [
        "6"
      ],
      "metadata": {
        "id": "67IOJdxznE6V"
      }
    },
    {
      "cell_type": "code",
      "source": [
        "def encontrar_k(arr):\n",
        "    inicio, fin = 0, len(arr) - 1\n",
        "\n",
        "    while inicio <= fin:\n",
        "        medio = (inicio + fin) // 2\n",
        "\n",
        "        if medio > 0 and arr[medio] < arr[medio - 1]:\n",
        "            return medio - 1  # Se encontró el punto de cambio\n",
        "        elif arr[medio] < arr[medio + 1]:\n",
        "            inicio = medio + 1  # La secuencia crece, buscar en la mitad derecha\n",
        "        else:\n",
        "            fin = medio - 1  # La secuencia decrece, buscar en la mitad izquierda\n",
        "\n",
        "    return -1  # No se encontró ningún punto de cambio\n",
        "\n",
        "# Ejemplo de uso:\n",
        "arreglo = [1, 2, 3, 7, 6, 5, 4]\n",
        "indice_k = encontrar_k(arreglo)\n",
        "print(\"El valor de k es:\", indice_k)"
      ],
      "metadata": {
        "colab": {
          "base_uri": "https://localhost:8080/"
        },
        "id": "pfkL9ctEkIKh",
        "outputId": "6cb3fd1b-b739-4ec5-cae8-336d2dff91f7"
      },
      "execution_count": 16,
      "outputs": [
        {
          "output_type": "stream",
          "name": "stdout",
          "text": [
            "El valor de k es: -1\n"
          ]
        }
      ]
    },
    {
      "cell_type": "markdown",
      "source": [
        "7(b)"
      ],
      "metadata": {
        "id": "n5hyGYtZnKZb"
      }
    },
    {
      "cell_type": "code",
      "source": [
        "def max_style_points(arrow_sequence):\n",
        "    n = len(arrow_sequence)\n",
        "    style_points = 0\n",
        "\n",
        "    for i in range(n - 1):\n",
        "        if (arrow_sequence[i] == '←' and arrow_sequence[i + 1] == '↑') or \\\n",
        "           (arrow_sequence[i] == '→' and arrow_sequence[i + 1] == '↑') or \\\n",
        "           (arrow_sequence[i] == '↑' and arrow_sequence[i + 1] == '←') or \\\n",
        "           (arrow_sequence[i] == '↑' and arrow_sequence[i + 1] == '→') or \\\n",
        "           (arrow_sequence[i] == '↓' and arrow_sequence[i + 1] == '←') or \\\n",
        "           (arrow_sequence[i] == '↓' and arrow_sequence[i + 1] == '→') or \\\n",
        "           (arrow_sequence[i] == '←' and arrow_sequence[i + 1] == '↓') or \\\n",
        "           (arrow_sequence[i] == '→' and arrow_sequence[i + 1] == '↓'):\n",
        "            style_points += 1\n",
        "\n",
        "    return style_points\n",
        "\n",
        "# Ejemplo de uso\n",
        "arrow_sequence = ['↑', '↑', '↓', '↓', '←', '→', '←']\n",
        "result = max_style_points(arrow_sequence)\n",
        "print(\"El máximo número de style points es:\", result)"
      ],
      "metadata": {
        "colab": {
          "base_uri": "https://localhost:8080/"
        },
        "id": "mlzSqOy-kIDm",
        "outputId": "699888d3-0feb-4b70-f36e-a230a5043ef2"
      },
      "execution_count": 17,
      "outputs": [
        {
          "output_type": "stream",
          "name": "stdout",
          "text": [
            "El máximo número de style points es: 1\n"
          ]
        }
      ]
    },
    {
      "cell_type": "markdown",
      "source": [
        "10"
      ],
      "metadata": {
        "id": "fgvXOmLXnQvB"
      }
    },
    {
      "cell_type": "code",
      "source": [
        "def is_valid(board, row, col):\n",
        "    return 0 <= row < len(board) and 0 <= col < len(board[0]) and board[row][col] == 0\n",
        "\n",
        "def cover_board(board, row, col):\n",
        "    if row == len(board):\n",
        "        return True  # Se ha cubierto todo el tablero\n",
        "\n",
        "    next_row, next_col = (row, col + 1) if col + 1 < len(board[0]) else (row + 1, 0)\n",
        "\n",
        "    if board[row][col] == 0 and is_valid(board, row, col + 1):\n",
        "        # Intenta colocar un dominó horizontalmente\n",
        "        board[row][col] = board[row][col + 1] = 1\n",
        "\n",
        "        if cover_board(board, next_row, next_col):\n",
        "            return True\n",
        "\n",
        "        # Si no es válido, deshace la acción\n",
        "        board[row][col] = board[row][col + 1] = 0\n",
        "\n",
        "    if board[row][col] == 0 and is_valid(board, row + 1, col):\n",
        "        # Intenta colocar un dominó verticalmente\n",
        "        board[row][col] = board[row + 1][col] = 1\n",
        "\n",
        "        if cover_board(board, next_row, next_col):\n",
        "            return True\n",
        "\n",
        "        # Si no es válido, deshace la acción\n",
        "        board[row][col] = board[row + 1][col] = 0\n",
        "\n",
        "    return False\n",
        "\n",
        "def print_board(board):\n",
        "    for row in board:\n",
        "        print(' '.join(map(str, row)))\n",
        "\n",
        "def dominos_cover(board_size):\n",
        "    if board_size % 2 != 0:\n",
        "        raise ValueError(\"El tamaño del tablero debe ser par\")\n",
        "\n",
        "    board = [[0] * board_size for _ in range(board_size)]\n",
        "\n",
        "    if cover_board(board, 0, 0):\n",
        "        print(\"Solución encontrada:\")\n",
        "        print_board(board)\n",
        "    else:\n",
        "        print(\"No se encontró solución.\")\n",
        "\n",
        "# Ejemplo de uso\n",
        "n = 4\n",
        "dominos_cover(n)\n"
      ],
      "metadata": {
        "colab": {
          "base_uri": "https://localhost:8080/"
        },
        "id": "enIomd1skH6f",
        "outputId": "b6dc77f1-e8f1-4cc2-f23e-58b98c020d00"
      },
      "execution_count": 20,
      "outputs": [
        {
          "output_type": "stream",
          "name": "stdout",
          "text": [
            "No se encontró solución.\n"
          ]
        }
      ]
    }
  ]
}